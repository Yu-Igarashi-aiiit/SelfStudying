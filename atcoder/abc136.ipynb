{
 "cells": [
  {
   "cell_type": "code",
   "execution_count": null,
   "metadata": {},
   "outputs": [],
   "source": [
    "#リスト内包リスト入力\n",
    "# print(a)\n",
    "# 3\n",
    "# 2\n",
    "# [['3'], ['2']]\n",
    "a = [input().split() for i in range(2)]\n",
    "\n",
    "#スペース区切り入力\n",
    "# 3 4\n",
    "# (3, 4)\n",
    "n, r = map(int, input().split())"
   ]
  },
  {
   "cell_type": "markdown",
   "metadata": {},
   "source": [
    "# A - Transfer"
   ]
  },
  {
   "cell_type": "code",
   "execution_count": 9,
   "metadata": {},
   "outputs": [
    {
     "name": "stdout",
     "output_type": "stream",
     "text": [
      "6 4 3\n",
      "1\n"
     ]
    }
   ],
   "source": [
    "a,b,c = map(int, input().split())\n",
    "\n",
    "if (a-b)-c >=0 :\n",
    "    print(0)\n",
    "    \n",
    "else : print(abs((a-b)-c))"
   ]
  },
  {
   "cell_type": "markdown",
   "metadata": {},
   "source": [
    "# B - Uneven Numbers"
   ]
  },
  {
   "cell_type": "code",
   "execution_count": 28,
   "metadata": {},
   "outputs": [
    {
     "name": "stdout",
     "output_type": "stream",
     "text": [
      "136\n",
      "46\n"
     ]
    }
   ],
   "source": [
    "num =  int(input())\n",
    "cnt = 0\n",
    "\n",
    "for i in range(num,0,-1) :\n",
    "    if(len(str(i))%2 != 0):\n",
    "        cnt += 1\n",
    "\n",
    "print(cnt)"
   ]
  },
  {
   "cell_type": "markdown",
   "metadata": {},
   "source": [
    "# Build Stairs"
   ]
  },
  {
   "cell_type": "code",
   "execution_count": 22,
   "metadata": {},
   "outputs": [
    {
     "name": "stdout",
     "output_type": "stream",
     "text": [
      "2\n",
      "0 2 1 0\n",
      "Yes\n"
     ]
    }
   ],
   "source": [
    "# 要は減少してはいけない。イコールまでは大丈夫\n",
    "n = int(input())\n",
    "h = [int(x) for x in input().split()]\n",
    "\n",
    "flg=0\n",
    "flg_0 = 0\n",
    "for i in range(0,len(h)-1):\n",
    "    tmp = h[i] - h[i+1]\n",
    "    if(tmp >= 2)&(flg!=1):\n",
    "        print(\"No\")\n",
    "        flg=1\n",
    "    elif(tmp ==1):\n",
    "        h[i] -= 1\n",
    "        if(h[i-1]-h[i] >= 1)&(h[i] != 0)&(flg!=1):\n",
    "            print(\"No\")\n",
    "            flg=1\n",
    "            \n",
    "if(flg!=1):\n",
    "    print(\"Yes\")\n",
    "    \n"
   ]
  },
  {
   "cell_type": "markdown",
   "metadata": {},
   "source": [
    "この問題は逆から考えないといけない。<br>\n",
    "反例は\n",
    "0 2 1 0\n",
    "→0 1 1 0\n",
    "→0 1 0 0\n",
    "のように以降すべてが0となるパターン<br>"
   ]
  },
  {
   "cell_type": "code",
   "execution_count": 18,
   "metadata": {},
   "outputs": [
    {
     "name": "stdout",
     "output_type": "stream",
     "text": [
      "2\n",
      "0 2 1 0\n",
      "Yes\n"
     ]
    }
   ],
   "source": [
    "N = int(input())\n",
    "H = list(map(int, input().split()))\n",
    "\n",
    "ans = \"Yes\"\n",
    "for i in range(N - 1):\n",
    "  diff = H[i + 1] - H[i]\n",
    "  if diff >= 1:\n",
    "    H[i + 1] -= 1\n",
    "  elif diff < 0:\n",
    "    ans = \"No\"\n",
    "print(ans)"
   ]
  },
  {
   "cell_type": "code",
   "execution_count": 14,
   "metadata": {},
   "outputs": [
    {
     "ename": "IndentationError",
     "evalue": "expected an indented block (<ipython-input-14-0f9e9610cec8>, line 19)",
     "output_type": "error",
     "traceback": [
      "\u001b[0;36m  File \u001b[0;32m\"<ipython-input-14-0f9e9610cec8>\"\u001b[0;36m, line \u001b[0;32m19\u001b[0m\n\u001b[0;31m    li  =list(input())\u001b[0m\n\u001b[0m     ^\u001b[0m\n\u001b[0;31mIndentationError\u001b[0m\u001b[0;31m:\u001b[0m expected an indented block\n"
     ]
    }
   ],
   "source": [
    "import collections\n",
    "\n",
    "def ch_cnt(li):\n",
    "    cnt = collections.Counter(li)\n",
    "    a = cnt[\"A\"]\n",
    "    b = cnt[\"B\"]\n",
    "    c = cnt[\"C\"]\n",
    "    \n",
    "    if(a==b==c):\n",
    "        flg1 = True\n",
    "    else:\n",
    "        flg1 = False\n",
    "    \n",
    "    return flg1,a,b,c\n",
    "        \n",
    "def ch_nxt():\n",
    "    \n",
    "\n",
    "li  =list(input())\n",
    "flg1,a,b,c = ch_cnt(li)\n"
   ]
  },
  {
   "cell_type": "code",
   "execution_count": null,
   "metadata": {},
   "outputs": [],
   "source": []
  }
 ],
 "metadata": {
  "kernelspec": {
   "display_name": "Python 3",
   "language": "python",
   "name": "python3"
  },
  "language_info": {
   "codemirror_mode": {
    "name": "ipython",
    "version": 3
   },
   "file_extension": ".py",
   "mimetype": "text/x-python",
   "name": "python",
   "nbconvert_exporter": "python",
   "pygments_lexer": "ipython3",
   "version": "3.6.8"
  },
  "toc": {
   "base_numbering": 1,
   "nav_menu": {},
   "number_sections": true,
   "sideBar": true,
   "skip_h1_title": false,
   "title_cell": "Table of Contents",
   "title_sidebar": "Contents",
   "toc_cell": false,
   "toc_position": {},
   "toc_section_display": true,
   "toc_window_display": false
  }
 },
 "nbformat": 4,
 "nbformat_minor": 2
}
