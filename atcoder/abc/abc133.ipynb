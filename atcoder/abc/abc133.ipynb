{
 "cells": [
  {
   "cell_type": "code",
   "execution_count": 6,
   "metadata": {},
   "outputs": [
    {
     "name": "stdout",
     "output_type": "stream",
     "text": [
      "3 4\n"
     ]
    },
    {
     "data": {
      "text/plain": [
       "(3, 4)"
      ]
     },
     "execution_count": 6,
     "metadata": {},
     "output_type": "execute_result"
    }
   ],
   "source": [
    "#リスト内包リスト入力\n",
    "# print(a)\n",
    "# 3\n",
    "# 2\n",
    "# [['3'], ['2']]\n",
    "a = [input().split() for i in range(2)]\n",
    "\n",
    "#スペース区切り入力\n",
    "# 3 4\n",
    "# (3, 4)\n",
    "n, r = map(int, input().split())"
   ]
  },
  {
   "cell_type": "markdown",
   "metadata": {},
   "source": [
    "# 1.hogehoge"
   ]
  },
  {
   "cell_type": "code",
   "execution_count": 17,
   "metadata": {},
   "outputs": [
    {
     "name": "stdout",
     "output_type": "stream",
     "text": [
      "4 2 8\n",
      "8\n"
     ]
    }
   ],
   "source": [
    "a = input().split()\n",
    "li = [int(i)for i in a]\n",
    "print(min(li[0]*li[1],li[2]))\n"
   ]
  },
  {
   "cell_type": "markdown",
   "metadata": {},
   "source": [
    "# B - Good Distance"
   ]
  },
  {
   "cell_type": "code",
   "execution_count": 29,
   "metadata": {
    "scrolled": true
   },
   "outputs": [
    {
     "name": "stdout",
     "output_type": "stream",
     "text": [
      "3 4\n",
      "-3 7 8 2\n",
      "-12 1 10 2\n",
      "-2 8 9 3\n",
      "[[81, 36, 4, 0], [1, 1, 1, 1], [100, 49, 1, 1]]\n",
      "2\n"
     ]
    }
   ],
   "source": [
    "import math\n",
    "\n",
    "# li[0]N,li[1]D\n",
    "a = input().split()\n",
    "li = [int(i) for i in a]\n",
    "\n",
    "#行列\n",
    "b = [input().split() for i in range(li[0])]\n",
    "lis = [[int(j) for j in i] for i in b]\n",
    "\n",
    "\n",
    "an = [[(lis[i][j]-lis[k][j])**2 for j in range(li[1])] for i in range(0,len(lis)-1) for k in range(i+1,len(lis))]\n",
    "ann = [math.sqrt(sum(i)) for i in an] \n",
    "ans = [i for i in ann if (i.is_integer())]\n",
    "print(len(ans))"
   ]
  },
  {
   "cell_type": "markdown",
   "metadata": {},
   "source": [
    "# C - Remainder Minimization 2019"
   ]
  },
  {
   "cell_type": "code",
   "execution_count": 3,
   "metadata": {},
   "outputs": [
    {
     "name": "stdout",
     "output_type": "stream",
     "text": [
      "2020 2040\n",
      "2\n"
     ]
    }
   ],
   "source": [
    "# TLE\n",
    "a = input().split()\n",
    "li = [int(i)for i in a]\n",
    "an = [(j*i) % 2019 for i in range(li[0],li[1]) for j in range(i+1,li[1]+1)]\n",
    "print(min(an))"
   ]
  },
  {
   "cell_type": "markdown",
   "metadata": {},
   "source": [
    "計算方法は正しいが、計算量は$O((R-L)^2)$かかるためTLEした<br>"
   ]
  },
  {
   "cell_type": "code",
   "execution_count": 54,
   "metadata": {},
   "outputs": [
    {
     "name": "stdout",
     "output_type": "stream",
     "text": [
      "2020 2040\n",
      "2\n"
     ]
    }
   ],
   "source": [
    "#直そうとしたけどまちがい\n",
    "a = input().split()\n",
    "li = [int(i)for i in a]\n",
    "mikk = float(\"inf\")\n",
    "for i in range(li[0],li[1]):\n",
    "    for j in range(i+1,li[1]+1):\n",
    "        k=(j*i) % 2019\n",
    "        if k<mikk: \n",
    "            mikk=k\n",
    "        else:\n",
    "            break\n",
    "print(mikk)"
   ]
  },
  {
   "cell_type": "markdown",
   "metadata": {},
   "source": [
    "ここで$(R-L)$が2019以上となるのはR>=2020の系に限るため、<br>\n",
    "必ずどこかにmod2019=0（つまりR-L=2019）となる区間がある<br>\n",
    "だからR-L>=2019のときは0を返すように計算すれば、<br>\n",
    "R-L個のパターン（最大2018個）それぞれについて、R-L回mod計算をするので<br>\n",
    "$O(2018 * 2018)$に計算量を抑えることができる"
   ]
  },
  {
   "cell_type": "code",
   "execution_count": 26,
   "metadata": {},
   "outputs": [
    {
     "name": "stdout",
     "output_type": "stream",
     "text": [
      "2020 2040\n",
      "2\n"
     ]
    }
   ],
   "source": [
    "#せいかい\n",
    "L,R = map(int,input().split())\n",
    "if(R-L>=2019):\n",
    "    print(0)\n",
    "an = [(j*i) % 2019 for i in range(li[0],li[1]) for j in range(i+1,li[1]+1)]\n",
    "print(min(an))"
   ]
  },
  {
   "cell_type": "markdown",
   "metadata": {},
   "source": [
    "これはmod2019ということで、答えの範囲は1~2018まで、つまり初期値2018として<br>\n",
    "解が0になるまで全探索するもの。解が0にならないのは、<br>\n",
    "$ O(2018 * 2018)$ のとき"
   ]
  },
  {
   "cell_type": "code",
   "execution_count": 30,
   "metadata": {},
   "outputs": [
    {
     "name": "stdout",
     "output_type": "stream",
     "text": [
      "2 3000000\n",
      "0\n"
     ]
    }
   ],
   "source": [
    "#別解\n",
    "L,R = map(int,input().split())\n",
    "ans=2018\n",
    "    \n",
    "for i in range(L,R):\n",
    "    for j in range(i+1,R+1):\n",
    "        ans = min(ans,(j*i) % 2019)\n",
    "        if(ans==0):\n",
    "            print(0)\n",
    "            break\n",
    "    if(ans==0):\n",
    "        break\n",
    "\n",
    "if(ans!=0):\n",
    "    print(ans)"
   ]
  },
  {
   "cell_type": "code",
   "execution_count": null,
   "metadata": {},
   "outputs": [],
   "source": []
  }
 ],
 "metadata": {
  "kernelspec": {
   "display_name": "Python 3",
   "language": "python",
   "name": "python3"
  },
  "language_info": {
   "codemirror_mode": {
    "name": "ipython",
    "version": 3
   },
   "file_extension": ".py",
   "mimetype": "text/x-python",
   "name": "python",
   "nbconvert_exporter": "python",
   "pygments_lexer": "ipython3",
   "version": "3.6.8"
  },
  "toc": {
   "base_numbering": 1,
   "nav_menu": {},
   "number_sections": true,
   "sideBar": true,
   "skip_h1_title": false,
   "title_cell": "Table of Contents",
   "title_sidebar": "Contents",
   "toc_cell": false,
   "toc_position": {
    "height": "calc(100% - 180px)",
    "left": "10px",
    "top": "150px",
    "width": "165px"
   },
   "toc_section_display": true,
   "toc_window_display": false
  }
 },
 "nbformat": 4,
 "nbformat_minor": 2
}
