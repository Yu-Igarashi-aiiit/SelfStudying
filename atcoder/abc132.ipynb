{
 "cells": [
  {
   "cell_type": "markdown",
   "metadata": {},
   "source": [
    "# A - Fifty-Fifty"
   ]
  },
  {
   "cell_type": "markdown",
   "metadata": {},
   "source": [
    "\n",
    "\n",
    "使わないライブラリimportは消さないとバグる"
   ]
  },
  {
   "cell_type": "code",
   "execution_count": 16,
   "metadata": {},
   "outputs": [
    {
     "name": "stdout",
     "output_type": "stream",
     "text": [
      "FFEE\n",
      "Yes\n"
     ]
    }
   ],
   "source": [
    "import collections\n",
    "x = input()\n",
    "TF =  x.isupper() and x.isalpha()\n",
    "flg  = 0\n",
    "if(TF):\n",
    "    li = [i for i in x]\n",
    "    count_dict = collections.Counter(li)\n",
    "    list = [v for k, v in count_dict.items()]\n",
    "    if(list == [2,2]):\n",
    "        print(\"Yes\")\n",
    "        flg = 1\n",
    "if(flg == 0):\n",
    "    print(\"No\")"
   ]
  },
  {
   "cell_type": "markdown",
   "metadata": {},
   "source": [
    "# B - Ordinary Number"
   ]
  },
  {
   "cell_type": "code",
   "execution_count": 17,
   "metadata": {},
   "outputs": [
    {
     "name": "stdout",
     "output_type": "stream",
     "text": [
      "9\n",
      "9 6 3 2 5 8 7 4 1\n",
      "5\n"
     ]
    }
   ],
   "source": [
    "a = [input().split() for i in range(2)]\n",
    "li = a[-1]\n",
    "lis = [int(i) for i in li]\n",
    "n = int(a[0][0])\n",
    "cnt = 0\n",
    "for i in range(0,n-2):\n",
    "    l = [lis[i],lis[i+1],lis[i+2]]\n",
    "    l_sort = sorted(l)\n",
    "    if(l[1] == l_sort[1]):\n",
    "        cnt += 1\n",
    "\n",
    "print(cnt)"
   ]
  },
  {
   "cell_type": "markdown",
   "metadata": {},
   "source": [
    "# C - Divide the Problems"
   ]
  },
  {
   "cell_type": "code",
   "execution_count": 26,
   "metadata": {},
   "outputs": [
    {
     "name": "stdout",
     "output_type": "stream",
     "text": [
      "14\n",
      "99592 10342 29105 78532 83018 11639 92015 77204 30914 21912 34519 80835 100000 1\n",
      "42685\n"
     ]
    }
   ],
   "source": [
    "a = [input().split() for i in range(2)]\n",
    "lis = [int(i) for i in a[-1]]\n",
    "n = int(a[0][0])\n",
    "lis_s = sorted(lis)\n",
    "\n",
    "ans = abs(lis_s[n//2] - lis_s[n//2 - 1])\n",
    "print(ans)"
   ]
  },
  {
   "cell_type": "markdown",
   "metadata": {},
   "source": [
    "# D - Blue and Red Balls"
   ]
  },
  {
   "cell_type": "code",
   "execution_count": 45,
   "metadata": {},
   "outputs": [
    {
     "name": "stdout",
     "output_type": "stream",
     "text": [
      "2000 3\n",
      "1998\n",
      "1997001\n",
      "329334994\n"
     ]
    }
   ],
   "source": [
    "#まちがい\n",
    "import math\n",
    "a = input().split()\n",
    "li = [int(i) for i in a]\n",
    "cnt = 0\n",
    "for i in range(1,li[1]+1):\n",
    "    tmp = math.factorial(li[0]-li[1]+i) // (math.factorial(li[0]-li[1]) * math.factorial(i))\n",
    "    \n",
    "    if(i == li[1]):\n",
    "        print(int(tmp-cnt)%int(10**9+7))\n",
    "    \n",
    "    cnt += tmp\n",
    "    \n",
    "    if(i != li[1]):\n",
    "        print(int(tmp)%int(10**9+7))\n",
    "    "
   ]
  },
  {
   "cell_type": "code",
   "execution_count": 59,
   "metadata": {},
   "outputs": [
    {
     "name": "stdout",
     "output_type": "stream",
     "text": [
      "2000 3\n",
      "1998\n",
      "3990006\n",
      "327341989\n"
     ]
    }
   ],
   "source": [
    "#せいかい\n",
    "import math\n",
    "\n",
    "def nCr(n, r):\n",
    "    return math.factorial(n) // (math.factorial(n - r) * math.factorial(r))\n",
    "\n",
    "\n",
    "n,k = map(int, input().split())\n",
    "for i in range(1,k+1):\n",
    "    ans = nCr(n-k+1,i) * nCr(k-1,i-1) %(10**9+7)\n",
    "    print(ans)\n",
    "    "
   ]
  },
  {
   "cell_type": "markdown",
   "metadata": {},
   "source": [
    "K 個の青いボールを回収するのに高橋君がちょうど i 回操作をする必要があるというのは、K 個の青ボー\n",
    "ルが赤いボールによって i 箇所に区切られているということを意味します。\n",
    "そこで、次のように組み合わせを考えていくことにしましょう。\n",
    "1. まず、赤いボールを N − K 個一列に並べます。\n",
    "2. この中で赤いボールと赤いボールの間、左端、右端の中から i 箇所を選んでそこに青いボールを K 個\n",
    "置くことを考えます。これらの選び方は、 N−K+1Ci 通りあります。\n",
    "3. それぞれの選び方について、青いボールをそれぞれの隙間に何個割り当てていくかを考えます。それぞ\n",
    "れに 1 個以上割り当てる必要があるので、この決め方は K−1Ci−1 通りあります。(*)\n",
    "よって、それぞれの i について、答えは N−K+1Ci ×K−1 Ci−1 となります。コンビネーションの計算は、\n",
    "nCk =\n",
    "n!\n",
    "k!(n−k)! であることを利用し、階乗、逆元、階乗の逆元を前計算しても良いですが、今回は N ≤ 2000 なの\n",
    "で、パスカルの三角形を上から求めていく要領で C[i][j] =i Cj を DP で (C[i][j] = C[i−1][j]+C[i−1][j−1])\n",
    "求めてもよいです。\n",
    "(*) K 個のボールを並べて、 K − 1 個のボールとボールの間から i − 1 箇所選び、そこで切り分けると i\n",
    "箇所に分かれる。各部分は最小 1 個のボールを含んでおり、ボールの総数は K 個になる。\n",
    "\n",
    "x+y+z=9という方程式を、そのまま素直にマスに当てはめる解き方です。そうすると、0という数はとれない＝両端に仕切りが来ることはできない、という問題に読み替えることができます。\n",
    "これまでの問題であれば、9個のマス＋2個の仕切り＝計11個の場所を描いて、そこから9個のマスを選ぶ、という解き方をしてきましたが、これでは両端に仕切りが入る余地があるので、まず2個の仕切りを場所から除くんです。\n",
    "そして、9個の場所の隙間から2個の仕切りを選ぶ問題であると読み替えるんです。こうすれば両端に仕切りが来るケースを排除できます。\n",
    "\n",
    "https://www.risuuhakusyo.com/chouhuku-kumiawase"
   ]
  },
  {
   "cell_type": "code",
   "execution_count": null,
   "metadata": {},
   "outputs": [],
   "source": []
  }
 ],
 "metadata": {
  "kernelspec": {
   "display_name": "Python 3",
   "language": "python",
   "name": "python3"
  },
  "language_info": {
   "codemirror_mode": {
    "name": "ipython",
    "version": 3
   },
   "file_extension": ".py",
   "mimetype": "text/x-python",
   "name": "python",
   "nbconvert_exporter": "python",
   "pygments_lexer": "ipython3",
   "version": "3.6.8"
  },
  "toc": {
   "base_numbering": 1,
   "nav_menu": {},
   "number_sections": true,
   "sideBar": true,
   "skip_h1_title": false,
   "title_cell": "Table of Contents",
   "title_sidebar": "Contents",
   "toc_cell": false,
   "toc_position": {},
   "toc_section_display": true,
   "toc_window_display": false
  }
 },
 "nbformat": 4,
 "nbformat_minor": 2
}
