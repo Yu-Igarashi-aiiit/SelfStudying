{
 "cells": [
  {
   "cell_type": "markdown",
   "metadata": {},
   "source": [
    "Machine Learning class report<br>\n",
    "Q-Learning<br>\n",
    "201820760\n",
    "Igarashi Yu"
   ]
  },
  {
   "cell_type": "markdown",
   "metadata": {},
   "source": [
    "# First condition<br>"
   ]
  },
  {
   "cell_type": "code",
   "execution_count": 3,
   "metadata": {},
   "outputs": [],
   "source": [
    "import numpy as np\n",
    "import pandas as pd\n",
    "from matplotlib import pyplot as plt"
   ]
  },
  {
   "cell_type": "code",
   "execution_count": 12,
   "metadata": {},
   "outputs": [
    {
     "data": {
      "text/html": [
       "<div>\n",
       "<style scoped>\n",
       "    .dataframe tbody tr th:only-of-type {\n",
       "        vertical-align: middle;\n",
       "    }\n",
       "\n",
       "    .dataframe tbody tr th {\n",
       "        vertical-align: top;\n",
       "    }\n",
       "\n",
       "    .dataframe thead th {\n",
       "        text-align: right;\n",
       "    }\n",
       "</style>\n",
       "<table border=\"1\" class=\"dataframe\">\n",
       "  <thead>\n",
       "    <tr style=\"text-align: right;\">\n",
       "      <th></th>\n",
       "      <th>t</th>\n",
       "      <th>(s_t,a_t)</th>\n",
       "      <th>Q(1,LEFT)</th>\n",
       "      <th>Q(1,RIGHT)</th>\n",
       "      <th>Q(2,LEFT)</th>\n",
       "      <th>Q(2,RIGHT)</th>\n",
       "    </tr>\n",
       "  </thead>\n",
       "  <tbody>\n",
       "    <tr>\n",
       "      <th>0</th>\n",
       "      <td>0</td>\n",
       "      <td>(1,RIGHT)</td>\n",
       "      <td>0</td>\n",
       "      <td>0.0</td>\n",
       "      <td>0</td>\n",
       "      <td>0</td>\n",
       "    </tr>\n",
       "    <tr>\n",
       "      <th>1</th>\n",
       "      <td>1</td>\n",
       "      <td>(2,RIGHT)</td>\n",
       "      <td>0</td>\n",
       "      <td>0.0</td>\n",
       "      <td>0</td>\n",
       "      <td>10</td>\n",
       "    </tr>\n",
       "    <tr>\n",
       "      <th>2</th>\n",
       "      <td>2</td>\n",
       "      <td>(1,LEFT)</td>\n",
       "      <td>0</td>\n",
       "      <td>0.0</td>\n",
       "      <td>0</td>\n",
       "      <td>10</td>\n",
       "    </tr>\n",
       "    <tr>\n",
       "      <th>3</th>\n",
       "      <td>3</td>\n",
       "      <td>(1,RIGHT)</td>\n",
       "      <td>0</td>\n",
       "      <td>0.9</td>\n",
       "      <td>0</td>\n",
       "      <td>10</td>\n",
       "    </tr>\n",
       "    <tr>\n",
       "      <th>4</th>\n",
       "      <td>4</td>\n",
       "      <td>(2,RIGHT)</td>\n",
       "      <td>0</td>\n",
       "      <td>0.9</td>\n",
       "      <td>0</td>\n",
       "      <td>19</td>\n",
       "    </tr>\n",
       "  </tbody>\n",
       "</table>\n",
       "</div>"
      ],
      "text/plain": [
       "   t  (s_t,a_t)  Q(1,LEFT)  Q(1,RIGHT)  Q(2,LEFT)  Q(2,RIGHT)\n",
       "0  0  (1,RIGHT)          0         0.0          0           0\n",
       "1  1  (2,RIGHT)          0         0.0          0          10\n",
       "2  2   (1,LEFT)          0         0.0          0          10\n",
       "3  3  (1,RIGHT)          0         0.9          0          10\n",
       "4  4  (2,RIGHT)          0         0.9          0          19"
      ]
     },
     "execution_count": 12,
     "metadata": {},
     "output_type": "execute_result"
    }
   ],
   "source": [
    "sample_df=pd.DataFrame({\n",
    "    't' : np.arange(start=0,stop=5,step=1),\n",
    "    '(s_t,a_t)' : ['(1,RIGHT)','(2,RIGHT)','(1,LEFT)','(1,RIGHT)','(2,RIGHT)'],\n",
    "    'Q(1,LEFT)' : [0,0,0,0,0],\n",
    "    'Q(1,RIGHT)' : [0,0,0,0.9,0.9],\n",
    "    'Q(2,LEFT)' : [0,0,0,0,0],\n",
    "    'Q(2,RIGHT)' : [0,10,10,10,19]\n",
    "})\n",
    "sample_df"
   ]
  },
  {
   "cell_type": "markdown",
   "metadata": {},
   "source": [
    "# when step $t$ = 5"
   ]
  },
  {
   "cell_type": "markdown",
   "metadata": {},
   "source": [
    "$Q(1,LEFT) = (1-\\alpha)Q(1,LEFT) + \\alpha[R(1,LEFT) + \\gamma max(Q(1,LEFT),Q(1,RIGHT))]$<br>\n",
    "$Q(1,LEFT) = 0.9 * 0 + 0.1[0 + 0.9 * 0.9]$<br>"
   ]
  },
  {
   "cell_type": "code",
   "execution_count": 26,
   "metadata": {},
   "outputs": [
    {
     "data": {
      "text/plain": [
       "0.08100000000000002"
      ]
     },
     "execution_count": 26,
     "metadata": {},
     "output_type": "execute_result"
    }
   ],
   "source": [
    "ans = 0.9 * 0 + 0.1*(0 + 0.9 * 0.9)\n",
    "ans"
   ]
  },
  {
   "cell_type": "markdown",
   "metadata": {},
   "source": [
    "$Q(1,LEFT) = 0.081$"
   ]
  },
  {
   "cell_type": "code",
   "execution_count": 18,
   "metadata": {},
   "outputs": [
    {
     "data": {
      "text/html": [
       "<div>\n",
       "<style scoped>\n",
       "    .dataframe tbody tr th:only-of-type {\n",
       "        vertical-align: middle;\n",
       "    }\n",
       "\n",
       "    .dataframe tbody tr th {\n",
       "        vertical-align: top;\n",
       "    }\n",
       "\n",
       "    .dataframe thead th {\n",
       "        text-align: right;\n",
       "    }\n",
       "</style>\n",
       "<table border=\"1\" class=\"dataframe\">\n",
       "  <thead>\n",
       "    <tr style=\"text-align: right;\">\n",
       "      <th></th>\n",
       "      <th>t</th>\n",
       "      <th>(s_t,a_t)</th>\n",
       "      <th>Q(1,LEFT)</th>\n",
       "      <th>Q(1,RIGHT)</th>\n",
       "      <th>Q(2,LEFT)</th>\n",
       "      <th>Q(2,RIGHT)</th>\n",
       "    </tr>\n",
       "  </thead>\n",
       "  <tbody>\n",
       "    <tr>\n",
       "      <th>0</th>\n",
       "      <td>0</td>\n",
       "      <td>(1,RIGHT)</td>\n",
       "      <td>0.000</td>\n",
       "      <td>0.0</td>\n",
       "      <td>0</td>\n",
       "      <td>0</td>\n",
       "    </tr>\n",
       "    <tr>\n",
       "      <th>1</th>\n",
       "      <td>1</td>\n",
       "      <td>(2,RIGHT)</td>\n",
       "      <td>0.000</td>\n",
       "      <td>0.0</td>\n",
       "      <td>0</td>\n",
       "      <td>10</td>\n",
       "    </tr>\n",
       "    <tr>\n",
       "      <th>2</th>\n",
       "      <td>2</td>\n",
       "      <td>(1,LEFT)</td>\n",
       "      <td>0.000</td>\n",
       "      <td>0.0</td>\n",
       "      <td>0</td>\n",
       "      <td>10</td>\n",
       "    </tr>\n",
       "    <tr>\n",
       "      <th>3</th>\n",
       "      <td>3</td>\n",
       "      <td>(1,RIGHT)</td>\n",
       "      <td>0.000</td>\n",
       "      <td>0.9</td>\n",
       "      <td>0</td>\n",
       "      <td>10</td>\n",
       "    </tr>\n",
       "    <tr>\n",
       "      <th>4</th>\n",
       "      <td>4</td>\n",
       "      <td>(2,RIGHT)</td>\n",
       "      <td>0.000</td>\n",
       "      <td>0.9</td>\n",
       "      <td>0</td>\n",
       "      <td>19</td>\n",
       "    </tr>\n",
       "    <tr>\n",
       "      <th>5</th>\n",
       "      <td>5</td>\n",
       "      <td>(1,LEFT)</td>\n",
       "      <td>0.081</td>\n",
       "      <td>0.9</td>\n",
       "      <td>0</td>\n",
       "      <td>19</td>\n",
       "    </tr>\n",
       "  </tbody>\n",
       "</table>\n",
       "</div>"
      ],
      "text/plain": [
       "   t  (s_t,a_t)  Q(1,LEFT)  Q(1,RIGHT)  Q(2,LEFT)  Q(2,RIGHT)\n",
       "0  0  (1,RIGHT)      0.000         0.0          0           0\n",
       "1  1  (2,RIGHT)      0.000         0.0          0          10\n",
       "2  2   (1,LEFT)      0.000         0.0          0          10\n",
       "3  3  (1,RIGHT)      0.000         0.9          0          10\n",
       "4  4  (2,RIGHT)      0.000         0.9          0          19\n",
       "5  5   (1,LEFT)      0.081         0.9          0          19"
      ]
     },
     "execution_count": 18,
     "metadata": {},
     "output_type": "execute_result"
    }
   ],
   "source": [
    "sample_df=pd.DataFrame({\n",
    "    't' : np.arange(start=0,stop=6,step=1),\n",
    "    '(s_t,a_t)' : ['(1,RIGHT)','(2,RIGHT)','(1,LEFT)','(1,RIGHT)','(2,RIGHT)','(1,LEFT)'],\n",
    "    'Q(1,LEFT)' : [0,0,0,0,0,0.081],\n",
    "    'Q(1,RIGHT)' : [0,0,0,0.9,0.9,0.9],\n",
    "    'Q(2,LEFT)' : [0,0,0,0,0,0],\n",
    "    'Q(2,RIGHT)' : [0,10,10,10,19,19]\n",
    "})\n",
    "sample_df"
   ]
  },
  {
   "cell_type": "markdown",
   "metadata": {},
   "source": [
    "# when step $t$ = 6"
   ]
  },
  {
   "cell_type": "markdown",
   "metadata": {},
   "source": [
    "$Q(1,RIGHT) = (1-\\alpha)Q(1,RIGHT) + \\alpha[R(1,RIGHT) + \\gamma max(Q(2,LEFT),Q(2,RIGHT))]$<br>\n",
    "$Q(1,RIGHT) = 0.9 * 0.9 + 0.1[0 + 0.9 * 19]$<br>"
   ]
  },
  {
   "cell_type": "code",
   "execution_count": 25,
   "metadata": {},
   "outputs": [
    {
     "data": {
      "text/plain": [
       "2.5200000000000005"
      ]
     },
     "execution_count": 25,
     "metadata": {},
     "output_type": "execute_result"
    }
   ],
   "source": [
    "ans = 0.9 * 0.9 + 0.1*(0 + 0.9 * 19)\n",
    "ans"
   ]
  },
  {
   "cell_type": "markdown",
   "metadata": {},
   "source": [
    "$Q(1,RIGHT) = 2.52$"
   ]
  },
  {
   "cell_type": "code",
   "execution_count": 29,
   "metadata": {},
   "outputs": [
    {
     "data": {
      "text/html": [
       "<div>\n",
       "<style scoped>\n",
       "    .dataframe tbody tr th:only-of-type {\n",
       "        vertical-align: middle;\n",
       "    }\n",
       "\n",
       "    .dataframe tbody tr th {\n",
       "        vertical-align: top;\n",
       "    }\n",
       "\n",
       "    .dataframe thead th {\n",
       "        text-align: right;\n",
       "    }\n",
       "</style>\n",
       "<table border=\"1\" class=\"dataframe\">\n",
       "  <thead>\n",
       "    <tr style=\"text-align: right;\">\n",
       "      <th></th>\n",
       "      <th>t</th>\n",
       "      <th>(s_t,a_t)</th>\n",
       "      <th>Q(1,LEFT)</th>\n",
       "      <th>Q(1,RIGHT)</th>\n",
       "      <th>Q(2,LEFT)</th>\n",
       "      <th>Q(2,RIGHT)</th>\n",
       "    </tr>\n",
       "  </thead>\n",
       "  <tbody>\n",
       "    <tr>\n",
       "      <th>0</th>\n",
       "      <td>0</td>\n",
       "      <td>(1,RIGHT)</td>\n",
       "      <td>0.000</td>\n",
       "      <td>0.00</td>\n",
       "      <td>0</td>\n",
       "      <td>0</td>\n",
       "    </tr>\n",
       "    <tr>\n",
       "      <th>1</th>\n",
       "      <td>1</td>\n",
       "      <td>(2,RIGHT)</td>\n",
       "      <td>0.000</td>\n",
       "      <td>0.00</td>\n",
       "      <td>0</td>\n",
       "      <td>10</td>\n",
       "    </tr>\n",
       "    <tr>\n",
       "      <th>2</th>\n",
       "      <td>2</td>\n",
       "      <td>(1,LEFT)</td>\n",
       "      <td>0.000</td>\n",
       "      <td>0.00</td>\n",
       "      <td>0</td>\n",
       "      <td>10</td>\n",
       "    </tr>\n",
       "    <tr>\n",
       "      <th>3</th>\n",
       "      <td>3</td>\n",
       "      <td>(1,RIGHT)</td>\n",
       "      <td>0.000</td>\n",
       "      <td>0.90</td>\n",
       "      <td>0</td>\n",
       "      <td>10</td>\n",
       "    </tr>\n",
       "    <tr>\n",
       "      <th>4</th>\n",
       "      <td>4</td>\n",
       "      <td>(2,RIGHT)</td>\n",
       "      <td>0.000</td>\n",
       "      <td>0.90</td>\n",
       "      <td>0</td>\n",
       "      <td>19</td>\n",
       "    </tr>\n",
       "    <tr>\n",
       "      <th>5</th>\n",
       "      <td>5</td>\n",
       "      <td>(1,LEFT)</td>\n",
       "      <td>0.081</td>\n",
       "      <td>0.90</td>\n",
       "      <td>0</td>\n",
       "      <td>19</td>\n",
       "    </tr>\n",
       "    <tr>\n",
       "      <th>6</th>\n",
       "      <td>6</td>\n",
       "      <td>(1,RIGHT)</td>\n",
       "      <td>0.081</td>\n",
       "      <td>2.52</td>\n",
       "      <td>0</td>\n",
       "      <td>19</td>\n",
       "    </tr>\n",
       "  </tbody>\n",
       "</table>\n",
       "</div>"
      ],
      "text/plain": [
       "   t  (s_t,a_t)  Q(1,LEFT)  Q(1,RIGHT)  Q(2,LEFT)  Q(2,RIGHT)\n",
       "0  0  (1,RIGHT)      0.000        0.00          0           0\n",
       "1  1  (2,RIGHT)      0.000        0.00          0          10\n",
       "2  2   (1,LEFT)      0.000        0.00          0          10\n",
       "3  3  (1,RIGHT)      0.000        0.90          0          10\n",
       "4  4  (2,RIGHT)      0.000        0.90          0          19\n",
       "5  5   (1,LEFT)      0.081        0.90          0          19\n",
       "6  6  (1,RIGHT)      0.081        2.52          0          19"
      ]
     },
     "execution_count": 29,
     "metadata": {},
     "output_type": "execute_result"
    }
   ],
   "source": [
    "sample_df=pd.DataFrame({\n",
    "    't' : np.arange(start=0,stop=7,step=1),\n",
    "    '(s_t,a_t)' : ['(1,RIGHT)','(2,RIGHT)','(1,LEFT)','(1,RIGHT)','(2,RIGHT)','(1,LEFT)','(1,RIGHT)'],\n",
    "    'Q(1,LEFT)' : [0,0,0,0,0,0.081,0.081],\n",
    "    'Q(1,RIGHT)' : [0,0,0,0.9,0.9,0.9,2.52],\n",
    "    'Q(2,LEFT)' : [0,0,0,0,0,0,0],\n",
    "    'Q(2,RIGHT)' : [0,10,10,10,19,19,19]\n",
    "})\n",
    "sample_df"
   ]
  },
  {
   "cell_type": "markdown",
   "metadata": {},
   "source": [
    "# when step $t$ = 7"
   ]
  },
  {
   "cell_type": "markdown",
   "metadata": {},
   "source": [
    "$Q(2,LEFT) = (1-\\alpha)Q(2,LEFT) + \\alpha[R(2,LEFT) + \\gamma max(Q(1,LEFT),Q(1,RIGHT))]$<br>\n",
    "$Q(2,LEFT) = 0.9 * 0 + 0.1[0 + 0.9 * 2.52]$<br>"
   ]
  },
  {
   "cell_type": "code",
   "execution_count": 30,
   "metadata": {},
   "outputs": [
    {
     "data": {
      "text/plain": [
       "0.22680000000000003"
      ]
     },
     "execution_count": 30,
     "metadata": {},
     "output_type": "execute_result"
    }
   ],
   "source": [
    "ans = 0.9 * 0 + 0.1*(0 + 0.9 * 2.52)\n",
    "ans"
   ]
  },
  {
   "cell_type": "markdown",
   "metadata": {},
   "source": [
    "$Q(2,LEFT) = 2.52$"
   ]
  },
  {
   "cell_type": "code",
   "execution_count": 31,
   "metadata": {},
   "outputs": [
    {
     "data": {
      "text/html": [
       "<div>\n",
       "<style scoped>\n",
       "    .dataframe tbody tr th:only-of-type {\n",
       "        vertical-align: middle;\n",
       "    }\n",
       "\n",
       "    .dataframe tbody tr th {\n",
       "        vertical-align: top;\n",
       "    }\n",
       "\n",
       "    .dataframe thead th {\n",
       "        text-align: right;\n",
       "    }\n",
       "</style>\n",
       "<table border=\"1\" class=\"dataframe\">\n",
       "  <thead>\n",
       "    <tr style=\"text-align: right;\">\n",
       "      <th></th>\n",
       "      <th>t</th>\n",
       "      <th>(s_t,a_t)</th>\n",
       "      <th>Q(1,LEFT)</th>\n",
       "      <th>Q(1,RIGHT)</th>\n",
       "      <th>Q(2,LEFT)</th>\n",
       "      <th>Q(2,RIGHT)</th>\n",
       "    </tr>\n",
       "  </thead>\n",
       "  <tbody>\n",
       "    <tr>\n",
       "      <th>0</th>\n",
       "      <td>0</td>\n",
       "      <td>(1,RIGHT)</td>\n",
       "      <td>0.000</td>\n",
       "      <td>0.00</td>\n",
       "      <td>0.0000</td>\n",
       "      <td>0</td>\n",
       "    </tr>\n",
       "    <tr>\n",
       "      <th>1</th>\n",
       "      <td>1</td>\n",
       "      <td>(2,RIGHT)</td>\n",
       "      <td>0.000</td>\n",
       "      <td>0.00</td>\n",
       "      <td>0.0000</td>\n",
       "      <td>10</td>\n",
       "    </tr>\n",
       "    <tr>\n",
       "      <th>2</th>\n",
       "      <td>2</td>\n",
       "      <td>(1,LEFT)</td>\n",
       "      <td>0.000</td>\n",
       "      <td>0.00</td>\n",
       "      <td>0.0000</td>\n",
       "      <td>10</td>\n",
       "    </tr>\n",
       "    <tr>\n",
       "      <th>3</th>\n",
       "      <td>3</td>\n",
       "      <td>(1,RIGHT)</td>\n",
       "      <td>0.000</td>\n",
       "      <td>0.90</td>\n",
       "      <td>0.0000</td>\n",
       "      <td>10</td>\n",
       "    </tr>\n",
       "    <tr>\n",
       "      <th>4</th>\n",
       "      <td>4</td>\n",
       "      <td>(2,RIGHT)</td>\n",
       "      <td>0.000</td>\n",
       "      <td>0.90</td>\n",
       "      <td>0.0000</td>\n",
       "      <td>19</td>\n",
       "    </tr>\n",
       "    <tr>\n",
       "      <th>5</th>\n",
       "      <td>5</td>\n",
       "      <td>(1,LEFT)</td>\n",
       "      <td>0.081</td>\n",
       "      <td>0.90</td>\n",
       "      <td>0.0000</td>\n",
       "      <td>19</td>\n",
       "    </tr>\n",
       "    <tr>\n",
       "      <th>6</th>\n",
       "      <td>6</td>\n",
       "      <td>(1,RIGHT)</td>\n",
       "      <td>0.081</td>\n",
       "      <td>2.52</td>\n",
       "      <td>0.0000</td>\n",
       "      <td>19</td>\n",
       "    </tr>\n",
       "    <tr>\n",
       "      <th>7</th>\n",
       "      <td>7</td>\n",
       "      <td>(2,LEFT)</td>\n",
       "      <td>0.081</td>\n",
       "      <td>2.52</td>\n",
       "      <td>0.2268</td>\n",
       "      <td>19</td>\n",
       "    </tr>\n",
       "  </tbody>\n",
       "</table>\n",
       "</div>"
      ],
      "text/plain": [
       "   t  (s_t,a_t)  Q(1,LEFT)  Q(1,RIGHT)  Q(2,LEFT)  Q(2,RIGHT)\n",
       "0  0  (1,RIGHT)      0.000        0.00     0.0000           0\n",
       "1  1  (2,RIGHT)      0.000        0.00     0.0000          10\n",
       "2  2   (1,LEFT)      0.000        0.00     0.0000          10\n",
       "3  3  (1,RIGHT)      0.000        0.90     0.0000          10\n",
       "4  4  (2,RIGHT)      0.000        0.90     0.0000          19\n",
       "5  5   (1,LEFT)      0.081        0.90     0.0000          19\n",
       "6  6  (1,RIGHT)      0.081        2.52     0.0000          19\n",
       "7  7   (2,LEFT)      0.081        2.52     0.2268          19"
      ]
     },
     "execution_count": 31,
     "metadata": {},
     "output_type": "execute_result"
    }
   ],
   "source": [
    "sample_df=pd.DataFrame({\n",
    "    't' : np.arange(start=0,stop=8,step=1),\n",
    "    '(s_t,a_t)' : ['(1,RIGHT)','(2,RIGHT)','(1,LEFT)','(1,RIGHT)','(2,RIGHT)','(1,LEFT)','(1,RIGHT)','(2,LEFT)'],\n",
    "    'Q(1,LEFT)' : [0,0,0,0,0,0.081,0.081,0.081],\n",
    "    'Q(1,RIGHT)' : [0,0,0,0.9,0.9,0.9,2.52,2.52],\n",
    "    'Q(2,LEFT)' : [0,0,0,0,0,0,0,0.2268],\n",
    "    'Q(2,RIGHT)' : [0,10,10,10,19,19,19,19]\n",
    "})\n",
    "sample_df"
   ]
  },
  {
   "cell_type": "markdown",
   "metadata": {},
   "source": [
    "# when step $t$ = 8"
   ]
  },
  {
   "cell_type": "markdown",
   "metadata": {},
   "source": [
    "$Q(1,RIGHT) = (1-\\alpha)Q(1,RIGHT) + \\alpha[R(1,RIGHT) + \\gamma max(Q(2,LEFT),Q(2,RIGHT))]$<br>\n",
    "$Q(1,RIGHT) = 0.9 * 2.52 + 0.1*(0 + 0.9 * 19)$<br>"
   ]
  },
  {
   "cell_type": "code",
   "execution_count": 35,
   "metadata": {},
   "outputs": [
    {
     "data": {
      "text/plain": [
       "3.9780000000000006"
      ]
     },
     "execution_count": 35,
     "metadata": {},
     "output_type": "execute_result"
    }
   ],
   "source": [
    "ans = 0.9 * 2.52 + 0.1*(0 + 0.9 * 19)\n",
    "ans"
   ]
  },
  {
   "cell_type": "markdown",
   "metadata": {},
   "source": [
    "$Q(1,RIGHT) = 3.978$"
   ]
  },
  {
   "cell_type": "code",
   "execution_count": 38,
   "metadata": {},
   "outputs": [
    {
     "data": {
      "text/html": [
       "<div>\n",
       "<style scoped>\n",
       "    .dataframe tbody tr th:only-of-type {\n",
       "        vertical-align: middle;\n",
       "    }\n",
       "\n",
       "    .dataframe tbody tr th {\n",
       "        vertical-align: top;\n",
       "    }\n",
       "\n",
       "    .dataframe thead th {\n",
       "        text-align: right;\n",
       "    }\n",
       "</style>\n",
       "<table border=\"1\" class=\"dataframe\">\n",
       "  <thead>\n",
       "    <tr style=\"text-align: right;\">\n",
       "      <th></th>\n",
       "      <th>t</th>\n",
       "      <th>(s_t,a_t)</th>\n",
       "      <th>Q(1,LEFT)</th>\n",
       "      <th>Q(1,RIGHT)</th>\n",
       "      <th>Q(2,LEFT)</th>\n",
       "      <th>Q(2,RIGHT)</th>\n",
       "    </tr>\n",
       "  </thead>\n",
       "  <tbody>\n",
       "    <tr>\n",
       "      <th>0</th>\n",
       "      <td>0</td>\n",
       "      <td>(1,RIGHT)</td>\n",
       "      <td>0.000</td>\n",
       "      <td>0.000</td>\n",
       "      <td>0.0000</td>\n",
       "      <td>0</td>\n",
       "    </tr>\n",
       "    <tr>\n",
       "      <th>1</th>\n",
       "      <td>1</td>\n",
       "      <td>(2,RIGHT)</td>\n",
       "      <td>0.000</td>\n",
       "      <td>0.000</td>\n",
       "      <td>0.0000</td>\n",
       "      <td>10</td>\n",
       "    </tr>\n",
       "    <tr>\n",
       "      <th>2</th>\n",
       "      <td>2</td>\n",
       "      <td>(1,LEFT)</td>\n",
       "      <td>0.000</td>\n",
       "      <td>0.000</td>\n",
       "      <td>0.0000</td>\n",
       "      <td>10</td>\n",
       "    </tr>\n",
       "    <tr>\n",
       "      <th>3</th>\n",
       "      <td>3</td>\n",
       "      <td>(1,RIGHT)</td>\n",
       "      <td>0.000</td>\n",
       "      <td>0.900</td>\n",
       "      <td>0.0000</td>\n",
       "      <td>10</td>\n",
       "    </tr>\n",
       "    <tr>\n",
       "      <th>4</th>\n",
       "      <td>4</td>\n",
       "      <td>(2,RIGHT)</td>\n",
       "      <td>0.000</td>\n",
       "      <td>0.900</td>\n",
       "      <td>0.0000</td>\n",
       "      <td>19</td>\n",
       "    </tr>\n",
       "    <tr>\n",
       "      <th>5</th>\n",
       "      <td>5</td>\n",
       "      <td>(1,LEFT)</td>\n",
       "      <td>0.081</td>\n",
       "      <td>0.900</td>\n",
       "      <td>0.0000</td>\n",
       "      <td>19</td>\n",
       "    </tr>\n",
       "    <tr>\n",
       "      <th>6</th>\n",
       "      <td>6</td>\n",
       "      <td>(1,RIGHT)</td>\n",
       "      <td>0.081</td>\n",
       "      <td>2.520</td>\n",
       "      <td>0.0000</td>\n",
       "      <td>19</td>\n",
       "    </tr>\n",
       "    <tr>\n",
       "      <th>7</th>\n",
       "      <td>7</td>\n",
       "      <td>(2,LEFT)</td>\n",
       "      <td>0.081</td>\n",
       "      <td>2.520</td>\n",
       "      <td>0.2268</td>\n",
       "      <td>19</td>\n",
       "    </tr>\n",
       "    <tr>\n",
       "      <th>8</th>\n",
       "      <td>8</td>\n",
       "      <td>(1,RIGHT)</td>\n",
       "      <td>0.081</td>\n",
       "      <td>3.978</td>\n",
       "      <td>0.2268</td>\n",
       "      <td>19</td>\n",
       "    </tr>\n",
       "  </tbody>\n",
       "</table>\n",
       "</div>"
      ],
      "text/plain": [
       "   t  (s_t,a_t)  Q(1,LEFT)  Q(1,RIGHT)  Q(2,LEFT)  Q(2,RIGHT)\n",
       "0  0  (1,RIGHT)      0.000       0.000     0.0000           0\n",
       "1  1  (2,RIGHT)      0.000       0.000     0.0000          10\n",
       "2  2   (1,LEFT)      0.000       0.000     0.0000          10\n",
       "3  3  (1,RIGHT)      0.000       0.900     0.0000          10\n",
       "4  4  (2,RIGHT)      0.000       0.900     0.0000          19\n",
       "5  5   (1,LEFT)      0.081       0.900     0.0000          19\n",
       "6  6  (1,RIGHT)      0.081       2.520     0.0000          19\n",
       "7  7   (2,LEFT)      0.081       2.520     0.2268          19\n",
       "8  8  (1,RIGHT)      0.081       3.978     0.2268          19"
      ]
     },
     "execution_count": 38,
     "metadata": {},
     "output_type": "execute_result"
    }
   ],
   "source": [
    "sample_df=pd.DataFrame({\n",
    "    't' : np.arange(start=0,stop=9,step=1),\n",
    "    '(s_t,a_t)' : ['(1,RIGHT)','(2,RIGHT)','(1,LEFT)','(1,RIGHT)','(2,RIGHT)','(1,LEFT)','(1,RIGHT)','(2,LEFT)','(1,RIGHT)'],\n",
    "    'Q(1,LEFT)' : [0,0,0,0,0,0.081,0.081,0.081,0.081],\n",
    "    'Q(1,RIGHT)' : [0,0,0,0.9,0.9,0.9,2.52,2.52,3.978],\n",
    "    'Q(2,LEFT)' : [0,0,0,0,0,0,0,0.2268,0.2268],\n",
    "    'Q(2,RIGHT)' : [0,10,10,10,19,19,19,19,19]\n",
    "})\n",
    "sample_df"
   ]
  },
  {
   "cell_type": "markdown",
   "metadata": {},
   "source": [
    "# when step $t$ = 9"
   ]
  },
  {
   "cell_type": "markdown",
   "metadata": {},
   "source": [
    "$Q(2,RIGHT) = (1-\\alpha)Q(2,RIGHT) + \\alpha[R(2,RIGHT) + \\gamma max(Q(3,\\alpha'))]$<br>\n",
    ",$Q(2,RIGHT) = 0.9 * 19 + 0.1*(100 + 0)$<br>"
   ]
  },
  {
   "cell_type": "code",
   "execution_count": 40,
   "metadata": {},
   "outputs": [
    {
     "data": {
      "text/plain": [
       "27.1"
      ]
     },
     "execution_count": 40,
     "metadata": {},
     "output_type": "execute_result"
    }
   ],
   "source": [
    "ans = 0.9 * 19 + 0.1*(100 + 0)\n",
    "ans"
   ]
  },
  {
   "cell_type": "markdown",
   "metadata": {},
   "source": [
    "$Q(2,RIGHT) = 27.1$"
   ]
  },
  {
   "cell_type": "code",
   "execution_count": 43,
   "metadata": {},
   "outputs": [
    {
     "data": {
      "text/html": [
       "<div>\n",
       "<style scoped>\n",
       "    .dataframe tbody tr th:only-of-type {\n",
       "        vertical-align: middle;\n",
       "    }\n",
       "\n",
       "    .dataframe tbody tr th {\n",
       "        vertical-align: top;\n",
       "    }\n",
       "\n",
       "    .dataframe thead th {\n",
       "        text-align: right;\n",
       "    }\n",
       "</style>\n",
       "<table border=\"1\" class=\"dataframe\">\n",
       "  <thead>\n",
       "    <tr style=\"text-align: right;\">\n",
       "      <th></th>\n",
       "      <th>t</th>\n",
       "      <th>(s_t,a_t)</th>\n",
       "      <th>Q(1,LEFT)</th>\n",
       "      <th>Q(1,RIGHT)</th>\n",
       "      <th>Q(2,LEFT)</th>\n",
       "      <th>Q(2,RIGHT)</th>\n",
       "    </tr>\n",
       "  </thead>\n",
       "  <tbody>\n",
       "    <tr>\n",
       "      <th>0</th>\n",
       "      <td>0</td>\n",
       "      <td>(1,RIGHT)</td>\n",
       "      <td>0.000</td>\n",
       "      <td>0.000</td>\n",
       "      <td>0.0000</td>\n",
       "      <td>0.0</td>\n",
       "    </tr>\n",
       "    <tr>\n",
       "      <th>1</th>\n",
       "      <td>1</td>\n",
       "      <td>(2,RIGHT)</td>\n",
       "      <td>0.000</td>\n",
       "      <td>0.000</td>\n",
       "      <td>0.0000</td>\n",
       "      <td>10.0</td>\n",
       "    </tr>\n",
       "    <tr>\n",
       "      <th>2</th>\n",
       "      <td>2</td>\n",
       "      <td>(1,LEFT)</td>\n",
       "      <td>0.000</td>\n",
       "      <td>0.000</td>\n",
       "      <td>0.0000</td>\n",
       "      <td>10.0</td>\n",
       "    </tr>\n",
       "    <tr>\n",
       "      <th>3</th>\n",
       "      <td>3</td>\n",
       "      <td>(1,RIGHT)</td>\n",
       "      <td>0.000</td>\n",
       "      <td>0.900</td>\n",
       "      <td>0.0000</td>\n",
       "      <td>10.0</td>\n",
       "    </tr>\n",
       "    <tr>\n",
       "      <th>4</th>\n",
       "      <td>4</td>\n",
       "      <td>(2,RIGHT)</td>\n",
       "      <td>0.000</td>\n",
       "      <td>0.900</td>\n",
       "      <td>0.0000</td>\n",
       "      <td>19.0</td>\n",
       "    </tr>\n",
       "    <tr>\n",
       "      <th>5</th>\n",
       "      <td>5</td>\n",
       "      <td>(1,LEFT)</td>\n",
       "      <td>0.081</td>\n",
       "      <td>0.900</td>\n",
       "      <td>0.0000</td>\n",
       "      <td>19.0</td>\n",
       "    </tr>\n",
       "    <tr>\n",
       "      <th>6</th>\n",
       "      <td>6</td>\n",
       "      <td>(1,RIGHT)</td>\n",
       "      <td>0.081</td>\n",
       "      <td>2.520</td>\n",
       "      <td>0.0000</td>\n",
       "      <td>19.0</td>\n",
       "    </tr>\n",
       "    <tr>\n",
       "      <th>7</th>\n",
       "      <td>7</td>\n",
       "      <td>(2,LEFT)</td>\n",
       "      <td>0.081</td>\n",
       "      <td>2.520</td>\n",
       "      <td>0.2268</td>\n",
       "      <td>19.0</td>\n",
       "    </tr>\n",
       "    <tr>\n",
       "      <th>8</th>\n",
       "      <td>8</td>\n",
       "      <td>(1,RIGHT)</td>\n",
       "      <td>0.081</td>\n",
       "      <td>3.978</td>\n",
       "      <td>0.2268</td>\n",
       "      <td>19.0</td>\n",
       "    </tr>\n",
       "    <tr>\n",
       "      <th>9</th>\n",
       "      <td>9</td>\n",
       "      <td>(2,RIGHT)</td>\n",
       "      <td>0.081</td>\n",
       "      <td>3.978</td>\n",
       "      <td>0.2268</td>\n",
       "      <td>27.1</td>\n",
       "    </tr>\n",
       "  </tbody>\n",
       "</table>\n",
       "</div>"
      ],
      "text/plain": [
       "   t  (s_t,a_t)  Q(1,LEFT)  Q(1,RIGHT)  Q(2,LEFT)  Q(2,RIGHT)\n",
       "0  0  (1,RIGHT)      0.000       0.000     0.0000         0.0\n",
       "1  1  (2,RIGHT)      0.000       0.000     0.0000        10.0\n",
       "2  2   (1,LEFT)      0.000       0.000     0.0000        10.0\n",
       "3  3  (1,RIGHT)      0.000       0.900     0.0000        10.0\n",
       "4  4  (2,RIGHT)      0.000       0.900     0.0000        19.0\n",
       "5  5   (1,LEFT)      0.081       0.900     0.0000        19.0\n",
       "6  6  (1,RIGHT)      0.081       2.520     0.0000        19.0\n",
       "7  7   (2,LEFT)      0.081       2.520     0.2268        19.0\n",
       "8  8  (1,RIGHT)      0.081       3.978     0.2268        19.0\n",
       "9  9  (2,RIGHT)      0.081       3.978     0.2268        27.1"
      ]
     },
     "execution_count": 43,
     "metadata": {},
     "output_type": "execute_result"
    }
   ],
   "source": [
    "sample_df=pd.DataFrame({\n",
    "    't' : np.arange(start=0,stop=10,step=1),\n",
    "    '(s_t,a_t)' : ['(1,RIGHT)','(2,RIGHT)','(1,LEFT)','(1,RIGHT)','(2,RIGHT)','(1,LEFT)','(1,RIGHT)','(2,LEFT)','(1,RIGHT)','(2,RIGHT)'],\n",
    "    'Q(1,LEFT)' : [0,0,0,0,0,0.081,0.081,0.081,0.081,0.081],\n",
    "    'Q(1,RIGHT)' : [0,0,0,0.9,0.9,0.9,2.52,2.52,3.978,3.978],\n",
    "    'Q(2,LEFT)' : [0,0,0,0,0,0,0,0.2268,0.2268,0.2268],\n",
    "    'Q(2,RIGHT)' : [0,10,10,10,19,19,19,19,19,27.1]\n",
    "})\n",
    "sample_df"
   ]
  }
 ],
 "metadata": {
  "kernelspec": {
   "display_name": "Python 3",
   "language": "python",
   "name": "python3"
  },
  "language_info": {
   "codemirror_mode": {
    "name": "ipython",
    "version": 3
   },
   "file_extension": ".py",
   "mimetype": "text/x-python",
   "name": "python",
   "nbconvert_exporter": "python",
   "pygments_lexer": "ipython3",
   "version": "3.7.0"
  },
  "toc": {
   "base_numbering": 1,
   "nav_menu": {},
   "number_sections": true,
   "sideBar": true,
   "skip_h1_title": false,
   "title_cell": "Table of Contents",
   "title_sidebar": "Contents",
   "toc_cell": false,
   "toc_position": {
    "height": "calc(100% - 180px)",
    "left": "10px",
    "top": "150px",
    "width": "342.797px"
   },
   "toc_section_display": true,
   "toc_window_display": true
  }
 },
 "nbformat": 4,
 "nbformat_minor": 2
}
