{
 "cells": [
  {
   "cell_type": "markdown",
   "metadata": {},
   "source": [
    "# 正規分布とその応用"
   ]
  },
  {
   "cell_type": "code",
   "execution_count": 3,
   "metadata": {},
   "outputs": [],
   "source": [
    "# 数値計算に使うライブラリ\n",
    "import numpy as np\n",
    "import pandas as pd\n",
    "import scipy as sp\n",
    "from scipy import stats\n",
    "\n",
    "# グラフを描画するライブラリ\n",
    "from matplotlib import pyplot as plt\n",
    "import seaborn as sns\n",
    "sns.set()\n",
    "\n",
    "# 表示桁数の指定\n",
    "%precision 3\n",
    "# グラフをjupyter Notebook内に表示させるための指定\n",
    "%matplotlib inline"
   ]
  },
  {
   "cell_type": "markdown",
   "metadata": {},
   "source": [
    "## 正規分布の確率密度(scipy.stats.norm.pdf関数)"
   ]
  },
  {
   "cell_type": "markdown",
   "metadata": {},
   "source": [
    "$N(x|\\mu,\\sigma^2) = \\frac{1}{\\sqrt(2\\pi\\sigma^2)} e^(-\\frac{(x-\\mu)^2}{2\\sigma^2})$ <br>\n",
    "ここで確率変数が3であるときの確率密度 $N(3|4,0.8^2)$ は以下で求まる"
   ]
  },
  {
   "cell_type": "code",
   "execution_count": 4,
   "metadata": {},
   "outputs": [
    {
     "data": {
      "text/plain": [
       "0.22831135673627742"
      ]
     },
     "execution_count": 4,
     "metadata": {},
     "output_type": "execute_result"
    }
   ],
   "source": [
    "# 「平均4、分散0.64(標準偏差0.8)の正規分布」における、確率変数が3であるときの確率密度\n",
    "x = 3\n",
    "mu = 4\n",
    "sigma = 0.8\n",
    "\n",
    "1 / (sp.sqrt(2 * sp.pi * sigma**2)) * \\\n",
    "    sp.exp(- ((x - mu)**2) / (2 * sigma**2))"
   ]
  },
  {
   "cell_type": "code",
   "execution_count": 5,
   "metadata": {},
   "outputs": [
    {
     "data": {
      "text/plain": [
       "0.2283113567362774"
      ]
     },
     "execution_count": 5,
     "metadata": {},
     "output_type": "execute_result"
    }
   ],
   "source": [
    "stats.norm.pdf(loc=4,scale=0.8,x=3)"
   ]
  },
  {
   "cell_type": "markdown",
   "metadata": {},
   "source": [
    "ちなみに正規分布のインスタンスを先に作ってからpdf関数を呼び出しても良い"
   ]
  },
  {
   "cell_type": "code",
   "execution_count": 6,
   "metadata": {},
   "outputs": [
    {
     "data": {
      "text/plain": [
       "0.2283113567362774"
      ]
     },
     "execution_count": 6,
     "metadata": {},
     "output_type": "execute_result"
    }
   ],
   "source": [
    "norm_dist = stats.norm(loc=4,scale=0.8)\n",
    "norm_dist.pdf(x=3)"
   ]
  },
  {
   "cell_type": "code",
   "execution_count": 8,
   "metadata": {},
   "outputs": [
    {
     "data": {
      "text/plain": [
       "[<matplotlib.lines.Line2D at 0x7f08e77011d0>]"
      ]
     },
     "execution_count": 8,
     "metadata": {},
     "output_type": "execute_result"
    },
    {
     "data": {
      "image/png": "[encoded data removed]",
      "text/plain": [
       "<Figure size 432x288 with 1 Axes>"
      ]
     },
     "metadata": {
      "needs_background": "light"
     },
     "output_type": "display_data"
    }
   ],
   "source": [
    "x_plot = np.arange(start=1,stop=7.1,step=0.1)\n",
    "plt.plot(\n",
    "    x_plot,\n",
    "    stats.norm.pdf(x=x_plot,loc=4,scale=0.8),\n",
    "    color='black'\n",
    ")"
   ]
  },
  {
   "cell_type": "markdown",
   "metadata": {},
   "source": [
    "## 累積分布関数(stats.norm.cdf関数)"
   ]
  },
  {
   "cell_type": "markdown",
   "metadata": {},
   "source": [
    "### 標本がある値以下となる割合"
   ]
  },
  {
   "cell_type": "code",
   "execution_count": 10,
   "metadata": {},
   "outputs": [
    {
     "data": {
      "text/plain": [
       "array([5.299, 3.511, 3.577, ..., 3.189, 3.95 , 2.85 ])"
      ]
     },
     "execution_count": 10,
     "metadata": {},
     "output_type": "execute_result"
    }
   ],
   "source": [
    "np.random.seed(1)\n",
    "simulated_sample = stats.norm.rvs(loc=4,scale=0.8,size=10000)\n",
    "simulated_sample"
   ]
  },
  {
   "cell_type": "markdown",
   "metadata": {},
   "source": [
    "3以下となるデータの個数を求めたければ比較演算子"
   ]
  },
  {
   "cell_type": "code",
   "execution_count": 11,
   "metadata": {},
   "outputs": [
    {
     "data": {
      "text/plain": [
       "1043"
      ]
     },
     "execution_count": 11,
     "metadata": {},
     "output_type": "execute_result"
    }
   ],
   "source": [
    "sp.sum(simulated_sample <= 3)"
   ]
  },
  {
   "cell_type": "code",
   "execution_count": 12,
   "metadata": {},
   "outputs": [
    {
     "data": {
      "text/plain": [
       "0.1043"
      ]
     },
     "execution_count": 12,
     "metadata": {},
     "output_type": "execute_result"
    }
   ],
   "source": [
    "sp.sum(simulated_sample <= 3) / len(simulated_sample)"
   ]
  },
  {
   "cell_type": "markdown",
   "metadata": {},
   "source": [
    "### 累積分布関数"
   ]
  },
  {
   "cell_type": "markdown",
   "metadata": {},
   "source": [
    "確率変数$X$に対して,$x$を実数とするとき$F(X)$を累積分布関数あるいは分布関数と呼ぶ"
   ]
  },
  {
   "cell_type": "markdown",
   "metadata": {},
   "source": [
    "$ F(X) = P(X \\leq x) $"
   ]
  },
  {
   "cell_type": "code",
   "execution_count": 13,
   "metadata": {},
   "outputs": [
    {
     "data": {
      "text/plain": [
       "0.10564977366685535"
      ]
     },
     "execution_count": 13,
     "metadata": {},
     "output_type": "execute_result"
    }
   ],
   "source": [
    "stats.norm.cdf(loc=4,scale=0.8,x=3)"
   ]
  },
  {
   "cell_type": "markdown",
   "metadata": {},
   "source": [
    "こちらもおおよそ10％で1.1の結果に等しい.pdf関数と間違えないように注意"
   ]
  },
  {
   "cell_type": "markdown",
   "metadata": {},
   "source": [
    "このようにデータを数え上げることなく積分計算により確率を簡単に計算することができるのが<br>\n",
    "母集団分布に正規分布を仮定したことのメリット"
   ]
  },
  {
   "cell_type": "markdown",
   "metadata": {},
   "source": [
    "## パーセント点"
   ]
  },
  {
   "cell_type": "markdown",
   "metadata": {},
   "source": [
    "### 下側確率とパーセント点"
   ]
  },
  {
   "cell_type": "markdown",
   "metadata": {},
   "source": [
    "データがある値以下となる確率を下側確率と呼ぶ<br>\n",
    "累積分布関数を用いることで導出できる<br>\n",
    "<br>"
   ]
  },
  {
   "cell_type": "markdown",
   "metadata": {},
   "source": [
    "逆に「ある確率になる基準値」をパーセント点と呼ぶ<br>"
   ]
  },
  {
   "cell_type": "markdown",
   "metadata": {},
   "source": [
    "### パーセント点(stats.norm.ppf)"
   ]
  },
  {
   "cell_type": "markdown",
   "metadata": {},
   "source": [
    "下側確率が2.5％となるパーセント点"
   ]
  },
  {
   "cell_type": "code",
   "execution_count": 15,
   "metadata": {},
   "outputs": [
    {
     "data": {
      "text/plain": [
       "2.4320288123679563"
      ]
     },
     "execution_count": 15,
     "metadata": {},
     "output_type": "execute_result"
    }
   ],
   "source": [
    "stats.norm.ppf(loc=4,scale=0.8,q=0.025)"
   ]
  },
  {
   "cell_type": "markdown",
   "metadata": {},
   "source": [
    "下側確率とパーセント点との関係から以下がわかる"
   ]
  },
  {
   "cell_type": "code",
   "execution_count": 17,
   "metadata": {},
   "outputs": [
    {
     "data": {
      "text/plain": [
       "3.0000000000000004"
      ]
     },
     "execution_count": 17,
     "metadata": {},
     "output_type": "execute_result"
    }
   ],
   "source": [
    "#cdf関数の引数にx=3を指定して3以下になる確率を求める（確率変数の値を確率に変換した）\n",
    "sitagawa = stats.norm.cdf(loc=4,scale=0.8,x=3)\n",
    "#パーセント点を求めるppfの引数にcdf関数の結果を入れるともとに戻る（確率が確率変数の値に戻る）\n",
    "stats.norm.ppf(loc=4,scale=0.8,q=sitagawa)"
   ]
  },
  {
   "cell_type": "markdown",
   "metadata": {},
   "source": [
    "## 標準正規分布"
   ]
  },
  {
   "cell_type": "markdown",
   "metadata": {},
   "source": [
    "平均0,分散1の正規分布を示す<br>\n",
    "$N(x|0.1)$"
   ]
  },
  {
   "cell_type": "markdown",
   "metadata": {},
   "source": [
    "## t値(標本平均に対する標準化)"
   ]
  },
  {
   "cell_type": "markdown",
   "metadata": {},
   "source": [
    "t値は以下に示す統計量<br>\n",
    "<br>\n",
    "$ t = \\frac{\\hat\\mu-\\mu}{\\hat\\sigma/\\sqrt(N)}$<br>\n",
    "<br>\n",
    "$\\hat\\mu$ : 標本平均<br>\n",
    "$\\mu    $ : 母平均<br>\n",
    "$\\hat\\sigma$ : 標本から計算された標準偏差<br>\n",
    "$N$ : サンプルサイズ"
   ]
  },
  {
   "cell_type": "markdown",
   "metadata": {},
   "source": [
    "$t値 = \\frac{標本平均-母平均}{標準誤差} $<br>\n",
    "t値は標準化と似た計算をする$\\frac{データ-平均}{標準偏差}$<br>\n",
    "<br>\n",
    "標準誤差は標本平均の標準偏差とみなせる<br>\n",
    "つまりt値は標本平均に対する標準化とみなせる<br>\n",
    "ここでは標本から計算された標準誤差を用いているので分散は1にならない"
   ]
  },
  {
   "cell_type": "markdown",
   "metadata": {},
   "source": [
    "## t値の標本分布"
   ]
  },
  {
   "cell_type": "markdown",
   "metadata": {},
   "source": [
    "母集団分布に正規分布を仮定すると、標本分布も論理的に定まる"
   ]
  },
  {
   "cell_type": "code",
   "execution_count": 19,
   "metadata": {},
   "outputs": [],
   "source": [
    "# 乱数の種\n",
    "np.random.seed(1)\n",
    "# t値を格納する入れ物\n",
    "t_value_array = np.zeros(10000)\n",
    "# 正規分布クラスのインスタンス\n",
    "norm_dist = stats.norm(loc = 4, scale = 0.8)\n",
    "# シミュレーションの実行\n",
    "for i in range(0, 10000):\n",
    "    sample = norm_dist.rvs(size = 10)\n",
    "    sample_mean = sp.mean(sample)\n",
    "    sample_std = sp.std(sample, ddof = 1)\n",
    "    sample_se = sample_std / sp.sqrt(len(sample))\n",
    "    t_value_array[i] = (sample_mean - 4) / sample_se"
   ]
  },
  {
   "cell_type": "markdown",
   "metadata": {},
   "source": [
    "10000試行分のt値が格納されている<br>\n",
    "10000試行分のヒストグラムを描く.これがt値の標本分布<br>\n",
    "カーネル密度推定の値も合わせて図示"
   ]
  },
  {
   "cell_type": "code",
   "execution_count": 20,
   "metadata": {},
   "outputs": [
    {
     "name": "stderr",
     "output_type": "stream",
     "text": [
      "/home/yu/anaconda3/lib/python3.7/site-packages/scipy/stats/stats.py:1713: FutureWarning: Using a non-tuple sequence for multidimensional indexing is deprecated; use `arr[tuple(seq)]` instead of `arr[seq]`. In the future this will be interpreted as an array index, `arr[np.array(seq)]`, which will result either in an error or a different result.\n",
      "  return np.add.reduce(sorted[indexer] * weights, axis=axis) / sumval\n"
     ]
    },
    {
     "data": {
      "text/plain": [
       "[<matplotlib.lines.Line2D at 0x7f08e76d2da0>]"
      ]
     },
     "execution_count": 20,
     "metadata": {},
     "output_type": "execute_result"
    },
    {
     "data": {
      "image/png": "[encoded data removed]",
      "text/plain": [
       "<Figure size 432x288 with 1 Axes>"
      ]
     },
     "metadata": {
      "needs_background": "light"
     },
     "output_type": "display_data"
    }
   ],
   "source": [
    "# 標準化された標本平均のヒストグラム\n",
    "sns.distplot(t_value_array, color = 'black')\n",
    "\n",
    "# 標準正規分布の確率密度\n",
    "x = np.arange(start = -8, stop = 8.1, step = 0.1)\n",
    "plt.plot(x, stats.norm.pdf(x = x), \n",
    "         color = 'black', linestyle = 'dotted')"
   ]
  },
  {
   "cell_type": "markdown",
   "metadata": {},
   "source": [
    "点線は標準正規分布<br>\n",
    "ここで実線（ヒストグラムのカーネル密度推定）と点線（標準正規分布にはズレがある）<br>\n",
    "不偏性が満たされているので標本平均の平均値は母平均と等しくなる<br>\n",
    "標本平均-母平均/標準誤差の結果における分布の中心は0となっている<br>\n",
    "<br>\n",
    "標準誤差でわっているにもかかわらず分布の裾が少し広くなっているのは、分散が1よりも大きくなっているということ<br>\n",
    "標本から計算された標準誤差で割っているのが理由"
   ]
  },
  {
   "cell_type": "markdown",
   "metadata": {},
   "source": [
    "## $t$ 分布"
   ]
  },
  {
   "cell_type": "markdown",
   "metadata": {},
   "source": [
    "母集団分布が正規分布であるときの$t$ 値の標本分布を$t$ 分布とよぶ<br>\n",
    "サンプルサイズが$N$のとき$N-1$としたものを自由度と呼ぶ<br>\n",
    "$t$分布の形状は自由度に依存する。自由度$n$と置くと$t$分布は$t(n)$と表記される<br><br>\n",
    "$t$分布の平均値は0<br>\n",
    "$t$分布の分散は1よりも少しだけ大きくなる<br>\n",
    "<br>\n",
    "$t(n)$の分散 = $\\frac{n}{n-2}$<br>\n",
    "<br>\n",
    "自由度が大きくなると分散は1に近づき、標準正規分布と違いがみられなくなる<br>\n",
    "<br>"
   ]
  },
  {
   "cell_type": "code",
   "execution_count": 21,
   "metadata": {},
   "outputs": [
    {
     "data": {
      "text/plain": [
       "[<matplotlib.lines.Line2D at 0x7f08e759e080>]"
      ]
     },
     "execution_count": 21,
     "metadata": {},
     "output_type": "execute_result"
    },
    {
     "data": {
      "image/png": "[encoded data removed]",
      "text/plain": [
       "<Figure size 432x288 with 1 Axes>"
      ]
     },
     "metadata": {
      "needs_background": "light"
     },
     "output_type": "display_data"
    }
   ],
   "source": [
    "plt.plot(x, stats.norm.pdf(x = x), \n",
    "         color = 'black', linestyle = 'dotted')\n",
    "plt.plot(x, stats.t.pdf(x = x, df = 9), \n",
    "         color = 'black')"
   ]
  },
  {
   "cell_type": "markdown",
   "metadata": {},
   "source": [
    "実線（t分布の確率密度）と点線（標準正規分布の確率密度）をあわせて図示している<br>\n",
    "標準正規分布に比べると裾広がりで、平均値と大きく異なるデータが発生しやすいことがわかる"
   ]
  },
  {
   "cell_type": "code",
   "execution_count": 22,
   "metadata": {},
   "outputs": [
    {
     "name": "stderr",
     "output_type": "stream",
     "text": [
      "/home/yu/anaconda3/lib/python3.7/site-packages/scipy/stats/stats.py:1713: FutureWarning: Using a non-tuple sequence for multidimensional indexing is deprecated; use `arr[tuple(seq)]` instead of `arr[seq]`. In the future this will be interpreted as an array index, `arr[np.array(seq)]`, which will result either in an error or a different result.\n",
      "  return np.add.reduce(sorted[indexer] * weights, axis=axis) / sumval\n"
     ]
    },
    {
     "data": {
      "text/plain": [
       "[<matplotlib.lines.Line2D at 0x7f08e7470cc0>]"
      ]
     },
     "execution_count": 22,
     "metadata": {},
     "output_type": "execute_result"
    },
    {
     "data": {
      "image/png": "[encoded data removed]",
      "text/plain": [
       "<Figure size 432x288 with 1 Axes>"
      ]
     },
     "metadata": {
      "needs_background": "light"
     },
     "output_type": "display_data"
    }
   ],
   "source": [
    "sns.distplot(t_value_array, \n",
    "             color = 'black', norm_hist = True)\n",
    "plt.plot(x, stats.t.pdf(x = x, df = 9), \n",
    "         color = 'black', linestyle = 'dotted')"
   ]
  },
  {
   "cell_type": "markdown",
   "metadata": {},
   "source": [
    "シミュレーション結果に合わせると、カーネル密度推定の結果とほぼ一致する"
   ]
  },
  {
   "cell_type": "markdown",
   "metadata": {},
   "source": [
    "$t$分布の意義は<u>母分散がわかっていない状況であっても標本平均の分布について言及することができること</u><br>\n",
    "t分布の導出の際、「標本から計算された標準誤差」で標本平均を標準化した<br>\n",
    "これはかなり大胆で、母分散をわかっていない状況で標準化しているため<br>\n",
    "逆に言えば、「標本から計算された標準誤差」で標本平均を標準化したときの結果がt分布に従うという事実を<br>\n",
    "使うことで、得られた標本平均に関する不確実性を見積もることが可能となる<br>\n",
    "これは区間推定を行う際に重要となる"
   ]
  },
  {
   "cell_type": "markdown",
   "metadata": {},
   "source": [
    "結論として以下の二点がいえる（気がする）<br>\n",
    "<u>「標本から計算された標準誤差」で標本平均を標準化したときの結果はt分布にしたがう（母集団分布が正規分布と仮定したとき）</u><br>\n",
    "<u>t分布は標準正規分布に比べるとやや分散が大きいが、カーネル密度推定の結果とはほぼ一致し、標本分布を理論的に求められる</u>"
   ]
  },
  {
   "cell_type": "code",
   "execution_count": null,
   "metadata": {},
   "outputs": [],
   "source": []
  }
 ],
 "metadata": {
  "kernelspec": {
   "display_name": "Python 3",
   "language": "python",
   "name": "python3"
  },
  "language_info": {
   "codemirror_mode": {
    "name": "ipython",
    "version": 3
   },
   "file_extension": ".py",
   "mimetype": "text/x-python",
   "name": "python",
   "nbconvert_exporter": "python",
   "pygments_lexer": "ipython3",
   "version": "3.6.8"
  },
  "toc": {
   "base_numbering": 1,
   "nav_menu": {},
   "number_sections": true,
   "sideBar": true,
   "skip_h1_title": false,
   "title_cell": "Table of Contents",
   "title_sidebar": "Contents",
   "toc_cell": false,
   "toc_position": {
    "height": "calc(100% - 180px)",
    "left": "10px",
    "top": "150px",
    "width": "342.797px"
   },
   "toc_section_display": true,
   "toc_window_display": true
  }
 },
 "nbformat": 4,
 "nbformat_minor": 2
}
