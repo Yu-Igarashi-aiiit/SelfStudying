{
 "cells": [
  {
   "cell_type": "markdown",
   "metadata": {},
   "source": [
    "# データ構造とアルゴリズム"
   ]
  },
  {
   "cell_type": "markdown",
   "metadata": {},
   "source": [
    "## ユーグリッドの互除法\n",
    "最大公約数を求めるアルゴリズム"
   ]
  },
  {
   "cell_type": "code",
   "execution_count": 2,
   "metadata": {},
   "outputs": [
    {
     "data": {
      "text/plain": [
       "137"
      ]
     },
     "execution_count": 2,
     "metadata": {},
     "output_type": "execute_result"
    }
   ],
   "source": [
    "def ugred(a,b):\n",
    "    while(a > 0):\n",
    "        n = a % b\n",
    "        if n == 0:\n",
    "            return b\n",
    "\n",
    "        a = b\n",
    "        b = n\n",
    "\n",
    "\n",
    "x = ugred(3425,1233)\n",
    "x"
   ]
  },
  {
   "cell_type": "markdown",
   "metadata": {},
   "source": [
    "# 探索\n",
    "## 線形探索\n",
    "単純に順番に探索する<br>\n",
    "<b>計算量：$O(n)$</b>"
   ]
  },
  {
   "cell_type": "code",
   "execution_count": 3,
   "metadata": {},
   "outputs": [
    {
     "data": {
      "text/plain": [
       "False"
      ]
     },
     "execution_count": 3,
     "metadata": {},
     "output_type": "execute_result"
    }
   ],
   "source": [
    "def LinearSearch(A,b):\n",
    "    for i in A:\n",
    "        if i == b:\n",
    "            return True\n",
    "    \n",
    "    return False\n",
    "\n",
    "A = [12,15,19,36,38,45,56,88]\n",
    "\n",
    "x = LinearSearch(A,34)\n",
    "x"
   ]
  },
  {
   "cell_type": "markdown",
   "metadata": {},
   "source": [
    "## ２分探索\n",
    "小さい順に並べられているとき、探索範囲を半分にしていっていずれ探索範囲１にすることで特定する探索<br>\n",
    "<b>計算量：$O(log_2 n)$</b>　<br>\n",
    "because<br>\n",
    "$n(1/2)^k = 1 $<br> \n",
    "$k = log_2 n$"
   ]
  },
  {
   "cell_type": "code",
   "execution_count": 4,
   "metadata": {},
   "outputs": [
    {
     "data": {
      "text/plain": [
       "True"
      ]
     },
     "execution_count": 4,
     "metadata": {},
     "output_type": "execute_result"
    }
   ],
   "source": [
    "def BinarySearch(A,b):\n",
    "    n = len(A)\n",
    "    if(len(A) ==0):\n",
    "        return False\n",
    "    if (A[int(n/2)] == b):\n",
    "        return True\n",
    "    if (A[int(n/2)] < b):\n",
    "        tmp =[A[i] for i in range(0,(n/2)-1)]\n",
    "        BinarySearch(tmp,b)\n",
    "\n",
    "    else:\n",
    "        BinarySearch([A[i] for i in range(int((n/2)),n-1)],b)\n",
    "\n",
    "            \n",
    "B = [12,15,19,36,38,45,56,88]\n",
    "x = BinarySearch(B,38)\n",
    "x"
   ]
  },
  {
   "cell_type": "markdown",
   "metadata": {},
   "source": [
    "## スタック\n",
    "後入れ先出し"
   ]
  },
  {
   "cell_type": "markdown",
   "metadata": {},
   "source": [
    "## 待ち行列（キュー）\n",
    "先入れ先出し。\n",
    "配列を用いて実装する場合毎回取り出すたびに前に詰める作業が必要になる<br>\n",
    "そういうときは配列の先頭と最後の番地を接続して循環配列にするとよい"
   ]
  },
  {
   "cell_type": "markdown",
   "metadata": {},
   "source": [
    "# 集合の表現法\n",
    "## ヒープ（優先度付き待ち行列）"
   ]
  },
  {
   "cell_type": "code",
   "execution_count": 46,
   "metadata": {
    "code_folding": []
   },
   "outputs": [
    {
     "name": "stdout",
     "output_type": "stream",
     "text": [
      "[31, 21, 48]\n",
      "31\n",
      "[26, 21, 48, 31]\n",
      "26\n",
      "[21, 26, 48, 31]\n",
      "26\n"
     ]
    },
    {
     "data": {
      "text/plain": [
       "13"
      ]
     },
     "execution_count": 46,
     "metadata": {},
     "output_type": "execute_result"
    }
   ],
   "source": [
    "class heap():\n",
    "    \n",
    "    def __init__(self):\n",
    "        self.list = []\n",
    "    \n",
    "    def swap(self,li,b,a):\n",
    "        li[a],li[b] = li[b],li[a]\n",
    "        return li\n",
    "    \n",
    "    def insert(self,num):\n",
    "        self.list.append(num)\n",
    "        tmp = len(self.list)-1 #index\n",
    "        while(tmp>=1):\n",
    "            #２分木の場合は親は単純に２で割った番地、子は２をかけた番地\n",
    "            if(self.list[int((tmp-1)/2)] > self.list[tmp]):\n",
    "                self.list = self.swap(self.list,int((tmp-1)/2),tmp)\n",
    "                tmp = int((tmp-1)/2) #親へ移動\n",
    "            else:\n",
    "                break\n",
    "    \n",
    "    def delete(self):\n",
    "        obj = self.list[0]\n",
    "        \n",
    "        self.list[0] = self.list[-1]\n",
    "        self.list.pop(-1)\n",
    "        tmp = 0\n",
    "        while(tmp < len(self.list)//2): #リストの一番下まで\n",
    "            print(self.list)\n",
    "            print(self.list[tmp])\n",
    "            if(self.list[tmp]>self.list[2*tmp + 1]): #親>左 \n",
    "                if(self.list[2*tmp+2] < self.list[2 * tmp+1]): #右<左\n",
    "                    self.list = self.swap(self.list,tmp,2*tmp+2)\n",
    "                    tmp = 2*tmp+2 # 左側に移動\n",
    "                else: #左<右\n",
    "                    self.list = self.swap(self.list,tmp,2*tmp+1)\n",
    "                    tmp = 2*tmp+1 # 左側に移動\n",
    "            \n",
    "            elif tmp % 2 ==0:\n",
    "                if self.list[tmp]>self.list[2*tmp + 2]: #親>右\n",
    "                    self.list = self.swap(self.list,tmp,2*tmp+2)\n",
    "                    tmp = 2*tmp+2 # 左側に移動\n",
    "            else:\n",
    "                return obj\n",
    "\n",
    "h = heap()\n",
    "h.insert(31)\n",
    "h.insert(21)\n",
    "h.insert(48)\n",
    "h.insert(9)\n",
    "h.delete()\n",
    "h.insert(26)\n",
    "h.insert(13)\n",
    "h.delete()\n",
    "\n"
   ]
  },
  {
   "cell_type": "code",
   "execution_count": null,
   "metadata": {},
   "outputs": [],
   "source": []
  },
  {
   "cell_type": "code",
   "execution_count": null,
   "metadata": {},
   "outputs": [],
   "source": []
  },
  {
   "cell_type": "code",
   "execution_count": null,
   "metadata": {},
   "outputs": [],
   "source": []
  },
  {
   "cell_type": "code",
   "execution_count": null,
   "metadata": {},
   "outputs": [],
   "source": []
  }
 ],
 "metadata": {
  "kernelspec": {
   "display_name": "Python 3",
   "language": "python",
   "name": "python3"
  },
  "language_info": {
   "codemirror_mode": {
    "name": "ipython",
    "version": 3
   },
   "file_extension": ".py",
   "mimetype": "text/x-python",
   "name": "python",
   "nbconvert_exporter": "python",
   "pygments_lexer": "ipython3",
   "version": "3.6.8"
  },
  "toc": {
   "base_numbering": 1,
   "nav_menu": {},
   "number_sections": true,
   "sideBar": true,
   "skip_h1_title": false,
   "title_cell": "Table of Contents",
   "title_sidebar": "Contents",
   "toc_cell": false,
   "toc_position": {
    "height": "calc(100% - 180px)",
    "left": "10px",
    "top": "150px",
    "width": "358.797px"
   },
   "toc_section_display": true,
   "toc_window_display": true
  }
 },
 "nbformat": 4,
 "nbformat_minor": 2
}
